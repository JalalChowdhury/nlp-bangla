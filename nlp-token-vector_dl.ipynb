{
 "cells": [
  {
   "cell_type": "markdown",
   "id": "0a174e30",
   "metadata": {},
   "source": [
    "# বাংলা নাচারাল ল্যাঙ্গুয়েজ প্রসেসিং, টোকেনাইজেশন এবং ভেক্টরাইজেশন"
   ]
  },
  {
   "cell_type": "code",
   "execution_count": 3,
   "id": "a166d116",
   "metadata": {},
   "outputs": [],
   "source": [
    "sentences = ['আমি মাঝে মধ্যেই ফিরে যাই পুরানো কিছু ক্লাসিক বইয়ে', 'বিশেষ করে বেসিক ঝালাই করার জন্য']"
   ]
  },
  {
   "cell_type": "code",
   "execution_count": 1,
   "id": "709c410f",
   "metadata": {},
   "outputs": [
    {
     "name": "stderr",
     "output_type": "stream",
     "text": [
      "[nltk_data] Downloading package punkt to\n",
      "[nltk_data]     C:\\Users\\user\\AppData\\Roaming\\nltk_data...\n",
      "[nltk_data]   Unzipping tokenizers\\punkt.zip.\n"
     ]
    },
    {
     "data": {
      "text/plain": [
       "True"
      ]
     },
     "execution_count": 1,
     "metadata": {},
     "output_type": "execute_result"
    }
   ],
   "source": [
    "import nltk\n",
    "nltk.download('punkt')"
   ]
  },
  {
   "cell_type": "code",
   "execution_count": 4,
   "id": "d8962386",
   "metadata": {},
   "outputs": [
    {
     "data": {
      "text/plain": [
       "{'আম': 0, 'মধ': 4, 'বইয়': 3, 'কর': 1, 'জন': 2}"
      ]
     },
     "execution_count": 4,
     "metadata": {},
     "output_type": "execute_result"
    }
   ],
   "source": [
    "from sklearn.feature_extraction.text import CountVectorizer\n",
    "\n",
    "# ট্রান্সফরমেশন তৈরি করি\n",
    "vectorizer = CountVectorizer()\n",
    "\n",
    "# টোকেনাইজ এবং ভোকাবুলারি তৈরি করি\n",
    "vectorizer.fit(sentences)\n",
    "\n",
    "# সামারি দেখি\n",
    "vectorizer.vocabulary_"
   ]
  },
  {
   "cell_type": "code",
   "execution_count": 5,
   "id": "00de0a54",
   "metadata": {},
   "outputs": [],
   "source": [
    "import warnings\n",
    "warnings.filterwarnings(\"ignore\")"
   ]
  },
  {
   "cell_type": "code",
   "execution_count": 6,
   "id": "b319201a",
   "metadata": {},
   "outputs": [
    {
     "data": {
      "text/plain": [
       "{'আমি': 0,\n",
       " 'মাঝে': 13,\n",
       " 'মধ্যেই': 12,\n",
       " 'ফিরে': 8,\n",
       " 'যাই': 14,\n",
       " 'পুরানো': 7,\n",
       " 'কিছু': 3,\n",
       " 'ক্লাসিক': 4,\n",
       " 'বইয়ে': 9,\n",
       " 'বিশেষ': 10,\n",
       " 'করে': 2,\n",
       " 'বেসিক': 11,\n",
       " 'ঝালাই': 6,\n",
       " 'করার': 1,\n",
       " 'জন্য': 5}"
      ]
     },
     "execution_count": 6,
     "metadata": {},
     "output_type": "execute_result"
    }
   ],
   "source": [
    "# Unicode link -->\n",
    "# https://jrgraphix.net/r/Unicode/0980-09FF\n",
    "\n",
    "from nltk import word_tokenize\n",
    "\n",
    "vectorizer = CountVectorizer(encoding='utf-8', tokenizer=word_tokenize)\n",
    "\n",
    "vectorizer.fit(sentences)\n",
    "vectorizer.vocabulary_"
   ]
  },
  {
   "cell_type": "code",
   "execution_count": 7,
   "id": "3b9cbd9a",
   "metadata": {},
   "outputs": [
    {
     "name": "stdout",
     "output_type": "stream",
     "text": [
      "{'আমি': 0, 'মাঝে': 13, 'মধ্যেই': 12, 'ফিরে': 8, 'যাই': 14, 'পুরানো': 7, 'কিছু': 3, 'ক্লাসিক': 4, 'বইয়ে': 9, 'বিশেষ': 10, 'করে': 2, 'বেসিক': 11, 'ঝালাই': 6, 'করার': 1, 'জন্য': 5}\n"
     ]
    }
   ],
   "source": [
    "print(vectorizer.vocabulary_)"
   ]
  },
  {
   "cell_type": "code",
   "execution_count": 20,
   "id": "21a91b46",
   "metadata": {},
   "outputs": [
    {
     "name": "stdout",
     "output_type": "stream",
     "text": [
      "[[1 0 0 1 1 0 0 1 1 1 0 0 1 1 1]\n",
      " [0 1 1 0 0 1 1 0 0 0 1 1 0 0 0]] \n",
      "\n",
      "\n",
      "[[1 0 0 1 1 0 0 1 1 1 0 0 1 1 1]\n",
      " [0 1 1 0 0 1 1 0 0 0 1 1 0 0 0]]\n",
      "arr[0] index :  [1 0 0 1 1 0 0 1 1 1 0 0 1 1 1]\n",
      "arr[1] index :  [0 1 1 0 0 1 1 0 0 0 1 1 0 0 0]\n"
     ]
    }
   ],
   "source": [
    "print(vectorizer.transform(sentences).toarray(),\"\\n\\n\")\n",
    "\n",
    "arr = vectorizer.transform(sentences).toarray()\n",
    "print (arr)\n",
    "print(\"arr[0] index : \",arr[0])\n",
    "print(\"arr[1] index : \",arr[1])"
   ]
  },
  {
   "cell_type": "code",
   "execution_count": 25,
   "id": "aee2d463",
   "metadata": {},
   "outputs": [
    {
     "name": "stdout",
     "output_type": "stream",
     "text": [
      "(2, 5)\n",
      "['আম', 'কর', 'জন', 'বইয়', 'মধ']\n"
     ]
    }
   ],
   "source": [
    "vec = CountVectorizer()\n",
    "x = vec.fit_transform(sentences).toarray()\n",
    "print(x.shape)\n",
    "print(vec.get_feature_names())"
   ]
  },
  {
   "cell_type": "code",
   "execution_count": 26,
   "id": "d1d3ea4b",
   "metadata": {},
   "outputs": [
    {
     "data": {
      "text/plain": [
       "{'আমি': 0,\n",
       " 'মাঝে': 13,\n",
       " 'মধ্যেই': 12,\n",
       " 'ফিরে': 8,\n",
       " 'যাই': 14,\n",
       " 'পুরানো': 7,\n",
       " 'কিছু': 3,\n",
       " 'ক্লাসিক': 4,\n",
       " 'বইয়ে': 9,\n",
       " 'বিশেষ': 10,\n",
       " 'করে': 2,\n",
       " 'বেসিক': 11,\n",
       " 'ঝালাই': 6,\n",
       " 'করার': 1,\n",
       " 'জন্য': 5}"
      ]
     },
     "execution_count": 26,
     "metadata": {},
     "output_type": "execute_result"
    }
   ],
   "source": [
    "#seri\n",
    "vectorizer = CountVectorizer(encoding='utf-8', token_pattern=r'[\\u0980-\\u09ff]+')\n",
    "vectorizer.fit(sentences)\n",
    "vectorizer.vocabulary_"
   ]
  },
  {
   "cell_type": "markdown",
   "id": "a230171e",
   "metadata": {},
   "source": [
    "## Use feature extraction"
   ]
  },
  {
   "cell_type": "code",
   "execution_count": 27,
   "id": "cbadea23",
   "metadata": {},
   "outputs": [
    {
     "data": {
      "text/plain": [
       "{'আমি': 0,\n",
       " 'মাঝে': 13,\n",
       " 'মধ্যেই': 12,\n",
       " 'ফিরে': 8,\n",
       " 'যাই': 14,\n",
       " 'পুরানো': 7,\n",
       " 'কিছু': 3,\n",
       " 'ক্লাসিক': 4,\n",
       " 'বইয়ে': 9,\n",
       " 'বিশেষ': 10,\n",
       " 'করে': 2,\n",
       " 'বেসিক': 11,\n",
       " 'ঝালাই': 6,\n",
       " 'করার': 1,\n",
       " 'জন্য': 5}"
      ]
     },
     "execution_count": 27,
     "metadata": {},
     "output_type": "execute_result"
    }
   ],
   "source": [
    "from sklearn.feature_extraction.text import TfidfVectorizer\n",
    "\n",
    "vectorizer =TfidfVectorizer(encoding='utf-8', tokenizer=word_tokenize)\n",
    "\n",
    "vectorizer.fit(sentences)\n",
    "vectorizer.vocabulary_"
   ]
  },
  {
   "cell_type": "code",
   "execution_count": 28,
   "id": "f35134a8",
   "metadata": {},
   "outputs": [
    {
     "data": {
      "text/plain": [
       "array([[0.33333333, 0.        , 0.        , 0.33333333, 0.33333333,\n",
       "        0.        , 0.        , 0.33333333, 0.33333333, 0.33333333,\n",
       "        0.        , 0.        , 0.33333333, 0.33333333, 0.33333333],\n",
       "       [0.        , 0.40824829, 0.40824829, 0.        , 0.        ,\n",
       "        0.40824829, 0.40824829, 0.        , 0.        , 0.        ,\n",
       "        0.40824829, 0.40824829, 0.        , 0.        , 0.        ]])"
      ]
     },
     "execution_count": 28,
     "metadata": {},
     "output_type": "execute_result"
    }
   ],
   "source": [
    "vectorizer.transform(sentences).toarray()"
   ]
  },
  {
   "cell_type": "code",
   "execution_count": 29,
   "id": "fe794a40",
   "metadata": {},
   "outputs": [
    {
     "name": "stdout",
     "output_type": "stream",
     "text": [
      "[1.40546511 1.40546511 1.40546511 1.40546511 1.40546511 1.40546511\n",
      " 1.40546511 1.40546511 1.40546511 1.40546511 1.40546511 1.40546511\n",
      " 1.40546511 1.40546511 1.40546511]\n"
     ]
    }
   ],
   "source": [
    "print(vectorizer.idf_)"
   ]
  },
  {
   "cell_type": "code",
   "execution_count": 30,
   "id": "f91d3a5d",
   "metadata": {},
   "outputs": [
    {
     "name": "stdout",
     "output_type": "stream",
     "text": [
      "(1, 15)\n",
      "[[0.33333333 0.         0.         0.33333333 0.33333333 0.\n",
      "  0.         0.33333333 0.33333333 0.33333333 0.         0.\n",
      "  0.33333333 0.33333333 0.33333333]]\n"
     ]
    }
   ],
   "source": [
    "vector = vectorizer.transform([sentences[0]])\n",
    "# এনকোডেড ভেক্টরকে সামারাইজ করি\n",
    "print(vector.shape)\n",
    "print(vector.toarray())"
   ]
  },
  {
   "cell_type": "markdown",
   "id": "f1fefd3d",
   "metadata": {},
   "source": [
    "## Another Example"
   ]
  },
  {
   "cell_type": "code",
   "execution_count": 31,
   "id": "cf66f067",
   "metadata": {},
   "outputs": [
    {
     "data": {
      "text/plain": [
       "['ঢাকা', 'বার্লিন', 'কুমিল্লা', 'শিকাগো', 'সিঙ্গাপুর']"
      ]
     },
     "execution_count": 31,
     "metadata": {},
     "output_type": "execute_result"
    }
   ],
   "source": [
    "cities = ['ঢাকা', 'বার্লিন', 'কুমিল্লা', 'শিকাগো', 'সিঙ্গাপুর']\n",
    "cities"
   ]
  },
  {
   "cell_type": "code",
   "execution_count": 32,
   "id": "c999b21b",
   "metadata": {},
   "outputs": [],
   "source": [
    "from sklearn.preprocessing import LabelEncoder"
   ]
  },
  {
   "cell_type": "code",
   "execution_count": 33,
   "id": "e598726b",
   "metadata": {},
   "outputs": [
    {
     "data": {
      "text/plain": [
       "array([1, 2, 0, 3, 4], dtype=int64)"
      ]
     },
     "execution_count": 33,
     "metadata": {},
     "output_type": "execute_result"
    }
   ],
   "source": [
    "encoder = LabelEncoder()\n",
    "city_labels = encoder.fit_transform(cities)\n",
    "city_labels"
   ]
  },
  {
   "cell_type": "code",
   "execution_count": 34,
   "id": "cb4907d1",
   "metadata": {},
   "outputs": [
    {
     "data": {
      "text/plain": [
       "array([[0., 1., 0., 0., 0.],\n",
       "       [0., 0., 1., 0., 0.],\n",
       "       [1., 0., 0., 0., 0.],\n",
       "       [0., 0., 0., 1., 0.],\n",
       "       [0., 0., 0., 0., 1.]])"
      ]
     },
     "execution_count": 34,
     "metadata": {},
     "output_type": "execute_result"
    }
   ],
   "source": [
    "from sklearn.preprocessing import OneHotEncoder\n",
    "\n",
    "encoder = OneHotEncoder(sparse=False)\n",
    "city_labels = city_labels.reshape((5, 1))\n",
    "encoder.fit_transform(city_labels)"
   ]
  },
  {
   "cell_type": "code",
   "execution_count": null,
   "id": "48e08bbf",
   "metadata": {},
   "outputs": [],
   "source": []
  }
 ],
 "metadata": {
  "kernelspec": {
   "display_name": "Python 3 (ipykernel)",
   "language": "python",
   "name": "python3"
  },
  "language_info": {
   "codemirror_mode": {
    "name": "ipython",
    "version": 3
   },
   "file_extension": ".py",
   "mimetype": "text/x-python",
   "name": "python",
   "nbconvert_exporter": "python",
   "pygments_lexer": "ipython3",
   "version": "3.9.12"
  }
 },
 "nbformat": 4,
 "nbformat_minor": 5
}
